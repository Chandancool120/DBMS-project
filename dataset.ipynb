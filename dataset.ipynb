{
  "nbformat": 4,
  "nbformat_minor": 0,
  "metadata": {
    "colab": {
      "name": "dataset.ipynb",
      "version": "0.3.2",
      "provenance": [],
      "include_colab_link": true
    },
    "kernelspec": {
      "name": "python3",
      "display_name": "Python 3"
    },
    "accelerator": "GPU"
  },
  "cells": [
    {
      "cell_type": "markdown",
      "metadata": {
        "id": "view-in-github",
        "colab_type": "text"
      },
      "source": [
        "<a href=\"https://colab.research.google.com/github/Chandancool120/DBMS-project/blob/master/dataset.ipynb\" target=\"_parent\"><img src=\"https://colab.research.google.com/assets/colab-badge.svg\" alt=\"Open In Colab\"/></a>"
      ]
    },
    {
      "metadata": {
        "id": "ip05GRK_9WHK",
        "colab_type": "code",
        "colab": {}
      },
      "cell_type": "code",
      "source": [
        "import cv2\n",
        "import os\n",
        "from os import listdir\n",
        "import inspect\n",
        "from os.path import isfile, join"
      ],
      "execution_count": 0,
      "outputs": []
    },
    {
      "metadata": {
        "id": "BY9fsmoFC-hq",
        "colab_type": "code",
        "colab": {}
      },
      "cell_type": "code",
      "source": [
        "def video_to_frames(video, emotion, file_index,video_number):\n",
        "    vidcap = cv2.VideoCapture(video)\n",
        "    totalimages = 0\n",
        "    imageReactionStartNumber = 15\n",
        "    while vidcap.isOpened():\n",
        "        success, image = vidcap.read()\n",
        "        index = file_index\n",
        "        if success:\n",
        "\n",
        "            if ((index - 31*video_number) /imageReactionStartNumber >1):\n",
        "                filepath = os.path.dirname(os.path.abspath(inspect.getfile(inspect.currentframe())))\n",
        "                filepath = filepath + '/' + str(emotion) + '/' + str(file_index) + '.png'\n",
        "                cv2.imwrite(filepath, image)\n",
        "            file_index+=1\n",
        "            totalimages+=1\n",
        "        else:\n",
        "            break\n",
        "    cv2.destroyAllWindows()\n",
        "    vidcap.release()\n",
        "    return totalimages"
      ],
      "execution_count": 0,
      "outputs": []
    },
    {
      "metadata": {
        "id": "3zKBGhFKDOkO",
        "colab_type": "code",
        "colab": {
          "base_uri": "https://localhost:8080/",
          "height": 248
        },
        "outputId": "3bfb80aa-1c42-4d66-fe01-c0e1eba1f2e8"
      },
      "cell_type": "code",
      "source": [
        "dirs = [ '1_Neutral-Happiness','2_Neutral-Anger', '4_Neutral-Sadness', '3_Neutral-Fear','5_Neutral-Disgust','6_Neutral-Surprise' ]\n",
        "print(dirs)\n",
        "emotion =0\n",
        "file_index =0\n",
        "\n",
        "for f in dirs:\n",
        "     onlyfiles = [join(f, file) for file in listdir(f)]\n",
        "     video_number = 0\n",
        "     for file in onlyfiles:\n",
        "          rcount = video_to_frames(file, emotion, file_index,video_number)\n",
        "          file_index+=rcount\n",
        "          video_number += 1\n",
        "     emotion+=1\n",
        "     file_index=0"
      ],
      "execution_count": 3,
      "outputs": [
        {
          "output_type": "stream",
          "text": [
            "['1_Neutral-Happiness', '2_Neutral-Anger', '4_Neutral-Sadness', '3_Neutral-Fear', '5_Neutral-Disgust', '6_Neutral-Surprise']\n"
          ],
          "name": "stdout"
        },
        {
          "output_type": "error",
          "ename": "FileNotFoundError",
          "evalue": "ignored",
          "traceback": [
            "\u001b[0;31m---------------------------------------------------------------------------\u001b[0m",
            "\u001b[0;31mFileNotFoundError\u001b[0m                         Traceback (most recent call last)",
            "\u001b[0;32m<ipython-input-3-eebe8c310e95>\u001b[0m in \u001b[0;36m<module>\u001b[0;34m()\u001b[0m\n\u001b[1;32m      5\u001b[0m \u001b[0;34m\u001b[0m\u001b[0m\n\u001b[1;32m      6\u001b[0m \u001b[0;32mfor\u001b[0m \u001b[0mf\u001b[0m \u001b[0;32min\u001b[0m \u001b[0mdirs\u001b[0m\u001b[0;34m:\u001b[0m\u001b[0;34m\u001b[0m\u001b[0;34m\u001b[0m\u001b[0m\n\u001b[0;32m----> 7\u001b[0;31m      \u001b[0monlyfiles\u001b[0m \u001b[0;34m=\u001b[0m \u001b[0;34m[\u001b[0m\u001b[0mjoin\u001b[0m\u001b[0;34m(\u001b[0m\u001b[0mf\u001b[0m\u001b[0;34m,\u001b[0m \u001b[0mfile\u001b[0m\u001b[0;34m)\u001b[0m \u001b[0;32mfor\u001b[0m \u001b[0mfile\u001b[0m \u001b[0;32min\u001b[0m \u001b[0mlistdir\u001b[0m\u001b[0;34m(\u001b[0m\u001b[0mf\u001b[0m\u001b[0;34m)\u001b[0m\u001b[0;34m]\u001b[0m\u001b[0;34m\u001b[0m\u001b[0;34m\u001b[0m\u001b[0m\n\u001b[0m\u001b[1;32m      8\u001b[0m      \u001b[0mvideo_number\u001b[0m \u001b[0;34m=\u001b[0m \u001b[0;36m0\u001b[0m\u001b[0;34m\u001b[0m\u001b[0;34m\u001b[0m\u001b[0m\n\u001b[1;32m      9\u001b[0m      \u001b[0;32mfor\u001b[0m \u001b[0mfile\u001b[0m \u001b[0;32min\u001b[0m \u001b[0monlyfiles\u001b[0m\u001b[0;34m:\u001b[0m\u001b[0;34m\u001b[0m\u001b[0;34m\u001b[0m\u001b[0m\n",
            "\u001b[0;31mFileNotFoundError\u001b[0m: [Errno 2] No such file or directory: '1_Neutral-Happiness'"
          ]
        }
      ]
    }
  ]
}